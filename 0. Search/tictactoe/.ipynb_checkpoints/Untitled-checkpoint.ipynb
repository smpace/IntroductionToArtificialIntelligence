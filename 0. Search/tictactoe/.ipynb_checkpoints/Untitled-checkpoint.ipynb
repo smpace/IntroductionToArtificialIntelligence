{
 "cells": [
  {
   "cell_type": "code",
   "execution_count": 2,
   "metadata": {},
   "outputs": [],
   "source": [
    "import math\n",
    "\n",
    "X = \"X\"\n",
    "O = \"O\"\n",
    "EMPTY = None\n",
    "\n",
    "board = [[EMPTY, EMPTY, EMPTY],\n",
    "            [EMPTY, EMPTY, EMPTY],\n",
    "            [EMPTY, EMPTY, EMPTY]]\n"
   ]
  },
  {
   "cell_type": "code",
   "execution_count": 79,
   "metadata": {},
   "outputs": [],
   "source": [
    "def player(board):\n",
    "    \"\"\"\n",
    "    Returns player who has the next turn on a board.\n",
    "    \"\"\"\n",
    "    count = 0\n",
    "    for rowIndex, row in enumerate(board):\n",
    "        print(rowIndex)\n",
    "        print(row)\n",
    "        for colIndex, col in enumerate(row):\n",
    "            if col != EMPTY:\n",
    "            \n",
    "                count += 1\n",
    "    print(count % 2)\n",
    "    if count % 2 != 0:\n",
    "        return O\n",
    "    else:\n",
    "        return X"
   ]
  },
  {
   "cell_type": "code",
   "execution_count": 80,
   "metadata": {},
   "outputs": [],
   "source": [
    "board = [[X, O, EMPTY],\n",
    "            [O, X, EMPTY],\n",
    "            [X, EMPTY, EMPTY]]"
   ]
  },
  {
   "cell_type": "code",
   "execution_count": 81,
   "metadata": {},
   "outputs": [
    {
     "name": "stdout",
     "output_type": "stream",
     "text": [
      "0\n",
      "['X', 'O', None]\n",
      "1\n",
      "['O', 'X', None]\n",
      "2\n",
      "['X', None, None]\n",
      "1\n"
     ]
    },
    {
     "data": {
      "text/plain": [
       "'O'"
      ]
     },
     "execution_count": 81,
     "metadata": {},
     "output_type": "execute_result"
    }
   ],
   "source": [
    "player(board)"
   ]
  },
  {
   "cell_type": "code",
   "execution_count": 93,
   "metadata": {},
   "outputs": [],
   "source": [
    "def actions(board):    \n",
    "    moves = set()\n",
    "    for rowIndex, row in enumerate(board):\n",
    "        for colIndex, col in enumerate(row):\n",
    "            if col == EMPTY:\n",
    "                moves.add((rowIndex, colIndex))\n",
    "    return moves"
   ]
  },
  {
   "cell_type": "code",
   "execution_count": 96,
   "metadata": {},
   "outputs": [
    {
     "name": "stdout",
     "output_type": "stream",
     "text": [
      "<class 'set'>\n",
      "{(1, 2), (0, 2), (2, 1), (2, 2)}\n"
     ]
    }
   ],
   "source": [
    "this = actions(board)\n",
    "print(type(this))\n",
    "print(this)"
   ]
  },
  {
   "cell_type": "code",
   "execution_count": null,
   "metadata": {},
   "outputs": [],
   "source": []
  }
 ],
 "metadata": {
  "kernelspec": {
   "display_name": "Python 3",
   "language": "python",
   "name": "python3"
  },
  "language_info": {
   "codemirror_mode": {
    "name": "ipython",
    "version": 3
   },
   "file_extension": ".py",
   "mimetype": "text/x-python",
   "name": "python",
   "nbconvert_exporter": "python",
   "pygments_lexer": "ipython3",
   "version": "3.7.3"
  }
 },
 "nbformat": 4,
 "nbformat_minor": 2
}
